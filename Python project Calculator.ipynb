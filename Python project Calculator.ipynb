{
 "cells": [
  {
   "cell_type": "markdown",
   "metadata": {},
   "source": [
    "### Calculator"
   ]
  },
  {
   "cell_type": "code",
   "execution_count": 1,
   "metadata": {},
   "outputs": [],
   "source": [
    "import tkinter as tk\n",
    "\n",
    "def calculate():\n",
    "    user_input = entry.get()\n",
    "    if user_input:\n",
    "        result = eval(user_input)\n",
    "        result_label.config(text=f\"Result: {result}\")\n",
    "    else:\n",
    "        result_label.config(text=\"Please enter an input\")\n",
    "\n",
    "root = tk.Tk()\n",
    "root.title(\"Simple Calculator\") # Create the main window\n",
    "\n",
    "entry = tk.Entry(root, width=20)\n",
    "entry.grid(row=0, column=0, columnspan=4, padx=10, pady=10) # Create an entry widget for input\n",
    "\n",
    "buttons = [\n",
    "    \"7\", \"8\", \"9\", \"/\",\n",
    "    \"4\", \"5\", \"6\", \"*\",\n",
    "    \"1\", \"2\", \"3\", \"-\",\n",
    "    \"0\", \".\", \"=\", \"+\"\n",
    "] \n",
    "# Create buttons for digits and operators\n",
    "\n",
    "for i, btn_text in enumerate(buttons):\n",
    "    row, col = divmod(i, 4)\n",
    "    btn = tk.Button(root, text=btn_text, command=lambda text=btn_text: entry.insert(tk.END, text))\n",
    "    btn.grid(row=row + 1, column=col, padx=5, pady=5)\n",
    "\n",
    "clear_btn = tk.Button(root, text=\"Clear\", command=lambda: entry.delete(0, tk.END))\n",
    "clear_btn.grid(row=5, column=0, columnspan=2, padx=5, pady=5) # Create a button for clearing the entry\n",
    "\n",
    "calculate_btn = tk.Button(root, text=\"Calculate\", command=calculate)\n",
    "calculate_btn.grid(row=5, column=2, columnspan=2, padx=5, pady=5) # Create a button for calculating the result\n",
    "\n",
    "result_label = tk.Label(root, text=\"\", font=(\"Helvetica\", 12))\n",
    "result_label.grid(row=6, column=0, columnspan=4, padx=10, pady=10) # Create a label to display the result\n",
    "\n",
    "root.mainloop()\n"
   ]
  },
  {
   "cell_type": "code",
   "execution_count": null,
   "metadata": {},
   "outputs": [],
   "source": []
  }
 ],
 "metadata": {
  "kernelspec": {
   "display_name": "base",
   "language": "python",
   "name": "python3"
  },
  "language_info": {
   "codemirror_mode": {
    "name": "ipython",
    "version": 3
   },
   "file_extension": ".py",
   "mimetype": "text/x-python",
   "name": "python",
   "nbconvert_exporter": "python",
   "pygments_lexer": "ipython3",
   "version": "3.7.6"
  }
 },
 "nbformat": 4,
 "nbformat_minor": 2
}
